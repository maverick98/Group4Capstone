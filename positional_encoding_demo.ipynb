{
  "nbformat": 4,
  "nbformat_minor": 0,
  "metadata": {
    "colab": {
      "provenance": [],
      "collapsed_sections": [
        "y3PVm73kLwfK"
      ],
      "authorship_tag": "ABX9TyMHc/V282jDodjZLDV1UQbZ",
      "include_colab_link": true
    },
    "kernelspec": {
      "name": "python3",
      "display_name": "Python 3"
    },
    "language_info": {
      "name": "python"
    }
  },
  "cells": [
    {
      "cell_type": "markdown",
      "metadata": {
        "id": "view-in-github",
        "colab_type": "text"
      },
      "source": [
        "<a href=\"https://colab.research.google.com/github/maverick98/Group4Capstone/blob/main/positional_encoding_demo.ipynb\" target=\"_parent\"><img src=\"https://colab.research.google.com/assets/colab-badge.svg\" alt=\"Open In Colab\"/></a>"
      ]
    },
    {
      "cell_type": "markdown",
      "source": [
        "# Import necessary libraries"
      ],
      "metadata": {
        "id": "y3PVm73kLwfK"
      }
    },
    {
      "cell_type": "code",
      "source": [
        "import numpy as np\n",
        "import string\n",
        "import tensorflow as tf\n",
        "from tensorflow import math, matmul, reshape, shape, transpose, cast, float32\n",
        "from tensorflow.data import Dataset\n",
        "from tensorflow.keras.layers import Embedding,Dense, Layer,TextVectorization\n",
        "from tensorflow.keras.backend import softmax\n",
        "from pickle import load, dump, HIGHEST_PROTOCOL\n",
        "from sklearn.utils import shuffle\n",
        "from numpy import savetxt\n",
        "from tensorflow.keras.preprocessing.text import Tokenizer\n",
        "from tensorflow.keras.preprocessing.sequence import pad_sequences\n",
        "from tensorflow import convert_to_tensor, int64\n",
        "from tensorflow.keras.layers import LayerNormalization,   ReLU, Dropout\n",
        "from tensorflow.keras.optimizers import Adam\n",
        "from tensorflow.keras.optimizers.schedules import LearningRateSchedule\n",
        "from tensorflow.keras.metrics import Mean\n",
        "from tensorflow import data, train,  reduce_sum,  equal, argmax,GradientTape, function\n",
        "from tensorflow.keras.losses import sparse_categorical_crossentropy\n",
        "from time import time\n",
        "from pickle import dump\n",
        "from tensorflow import    linalg, ones, maximum, newaxis\n",
        "from tensorflow.keras import Model\n",
        "from pickle import load\n",
        "from tensorflow import Module\n",
        "from tensorflow import   TensorArray, argmax,  transpose\n",
        "from matplotlib.pylab import plt\n",
        "from numpy import arange\n",
        "\n",
        "from keras.utils import to_categorical\n",
        "import numpy as np\n",
        "from numpy import array\n",
        "import pandas as pd\n",
        "import cv2\n",
        "from glob import glob\n",
        "import PIL\n",
        "import time\n",
        "from tqdm import tqdm\n",
        "import os\n",
        "#import gensim\n",
        "from sklearn.model_selection import train_test_split\n",
        "from nltk.translate.bleu_score import sentence_bleu\n",
        "from PIL import Image\n",
        "import random\n",
        "from importlib.machinery import SourceFileLoader\n",
        "from os.path import join\n",
        "from google.colab import drive"
      ],
      "metadata": {
        "id": "n6BDkBbELu8q"
      },
      "execution_count": 1,
      "outputs": []
    },
    {
      "cell_type": "markdown",
      "source": [
        "# Check if connected to GPU"
      ],
      "metadata": {
        "id": "KujElPN-Orji"
      }
    },
    {
      "cell_type": "code",
      "source": [
        "gpu_info = !nvidia-smi\n",
        "gpu_info = '\\n'.join(gpu_info)\n",
        "if gpu_info.find('failed') >= 0:\n",
        "  print('Not connected to a GPU')\n",
        "else:\n",
        "  print(gpu_info)"
      ],
      "metadata": {
        "colab": {
          "base_uri": "https://localhost:8080/"
        },
        "id": "w_5u_9YyOpNz",
        "outputId": "fa6f6505-a687-4b8a-81a7-2168cd5dc6f2"
      },
      "execution_count": 3,
      "outputs": [
        {
          "output_type": "stream",
          "name": "stdout",
          "text": [
            "Not connected to a GPU\n"
          ]
        }
      ]
    },
    {
      "cell_type": "markdown",
      "source": [
        "# Mount Google Drive"
      ],
      "metadata": {
        "id": "XM1nAEvvKm1E"
      }
    },
    {
      "cell_type": "code",
      "execution_count": null,
      "metadata": {
        "id": "ixOYqR2r7T-Q"
      },
      "outputs": [],
      "source": [
        "\n",
        "\n",
        "ROOT = \"/content/drive\"\n",
        "drive.mount(ROOT,force_remount=True)\n",
        "\n",
        "\n"
      ]
    },
    {
      "cell_type": "code",
      "source": [
        "PROJ = \"MyDrive/Capstone/src\" \n",
        "PROJECT_PATH = join(ROOT, PROJ)\n",
        "print(\"PROJECT_PATH from your Google Drive is \",PROJECT_PATH)\n",
        "!rm -rf \"{PROJECT_PATH}\"\n",
        "!mkdir  \"{PROJECT_PATH}\""
      ],
      "metadata": {
        "colab": {
          "base_uri": "https://localhost:8080/"
        },
        "id": "pCYv8FkDM6B_",
        "outputId": "a2fb1379-677f-49b9-ac7c-51209a220912"
      },
      "execution_count": 21,
      "outputs": [
        {
          "output_type": "stream",
          "name": "stdout",
          "text": [
            "PROJECT_PATH from your Google Drive is  /content/drive/MyDrive/Capstone/src\n",
            "shell-init: error retrieving current directory: getcwd: cannot access parent directories: No such file or directory\n"
          ]
        }
      ]
    },
    {
      "cell_type": "markdown",
      "source": [
        "# Clone the code from https://sourceforge.net/projects/group4capstone/"
      ],
      "metadata": {
        "id": "IVa7Vdx4d2NL"
      }
    },
    {
      "cell_type": "code",
      "source": [
        "%cd \"{PROJECT_PATH}\"\n",
        "!pwd\n",
        "MY_USER_NAME = 'msahu98' # This is your sourceforge.net username\n",
        "!git clone https://{MY_USER_NAME}@git.code.sf.net/p/group4capstone/code group4capstone-code"
      ],
      "metadata": {
        "id": "yBHIG28dd6Dp"
      },
      "execution_count": null,
      "outputs": []
    },
    {
      "cell_type": "code",
      "source": [],
      "metadata": {
        "id": "6mGLrsMzd1SO"
      },
      "execution_count": null,
      "outputs": []
    },
    {
      "cell_type": "markdown",
      "source": [
        "# Load Modules"
      ],
      "metadata": {
        "id": "X2WOLpG1LoqU"
      }
    },
    {
      "cell_type": "code",
      "source": [
        "PROJECT_PATH \n",
        "#/content/drive/MyDrive/Capstone/src/group4capstone-code/src/positional_encoding.py"
      ],
      "metadata": {
        "colab": {
          "base_uri": "https://localhost:8080/",
          "height": 35
        },
        "id": "oQgm8lMlfVuq",
        "outputId": "46958e8f-7adc-4ca1-d9ff-ceaed7b775f7"
      },
      "execution_count": 5,
      "outputs": [
        {
          "output_type": "execute_result",
          "data": {
            "text/plain": [
              "'/content/drive/MyDrive/Capstone/src'"
            ],
            "application/vnd.google.colaboratory.intrinsic+json": {
              "type": "string"
            }
          },
          "metadata": {},
          "execution_count": 5
        }
      ]
    },
    {
      "cell_type": "code",
      "source": [
        "def load_module(module_name):\n",
        "    module_py=module_name+'.py'\n",
        "    SourceFileLoader(module_name, join(join(PROJECT_PATH,'group4capstone-code/src'), module_py)).load_module()\n",
        "\n"
      ],
      "metadata": {
        "id": "ZjQo8Ho19CS1"
      },
      "execution_count": 6,
      "outputs": []
    },
    {
      "cell_type": "code",
      "source": [
        "load_module('positional_encoding')"
      ],
      "metadata": {
        "id": "5WQfX_GiMKN_"
      },
      "execution_count": 23,
      "outputs": []
    },
    {
      "cell_type": "markdown",
      "source": [
        "# Check Word Embedding and  Positional Encoding Layer in Transformers"
      ],
      "metadata": {
        "id": "_l6S6nejvnAm"
      }
    },
    {
      "cell_type": "code",
      "source": [
        "output_sequence_length=4\n",
        "vocab_size=5\n",
        "sentences=[[\"I am good\"],[\"She is good\"],[\"All are good\"]]\n",
        "sentence_data=Dataset.from_tensor_slices(sentences)\n",
        "vectorize_layer=TextVectorization(output_sequence_length=output_sequence_length,max_tokens=vocab_size)\n",
        "vectorize_layer.adapt(sentence_data)\n",
        "word_tensors=convert_to_tensor(sentences,dtype=tf.string)\n",
        "vectorized_words=vectorize_layer(word_tensors)\n",
        "print(\"Vocabulary: \",vectorize_layer.get_vocabulary())\n",
        "print(\"Vectorized words : \",vectorized_words)"
      ],
      "metadata": {
        "id": "fUXG_XfWrMkA",
        "colab": {
          "base_uri": "https://localhost:8080/"
        },
        "outputId": "580af427-7a6b-4917-a461-210012ebf095"
      },
      "execution_count": 10,
      "outputs": [
        {
          "output_type": "stream",
          "name": "stdout",
          "text": [
            "Vocabulary:  ['', '[UNK]', 'good', 'she', 'is']\n",
            "Vectorized words :  tf.Tensor(\n",
            "[[1 1 2 0]\n",
            " [3 4 2 0]\n",
            " [1 1 2 0]], shape=(3, 4), dtype=int64)\n"
          ]
        }
      ]
    },
    {
      "cell_type": "code",
      "source": [
        "output_length=6\n",
        "word_embedding_layer=Embedding(vocab_size,output_length)\n",
        "embedded_words=word_embedding_layer(vectorized_words)\n",
        "print(\"embedded words are \",embedded_words)"
      ],
      "metadata": {
        "id": "SB4TaTSyvzye",
        "colab": {
          "base_uri": "https://localhost:8080/"
        },
        "outputId": "a82d052e-13c5-4a17-836e-0b416966b47f"
      },
      "execution_count": 11,
      "outputs": [
        {
          "output_type": "stream",
          "name": "stdout",
          "text": [
            "embedded words are  tf.Tensor(\n",
            "[[[-0.00026619 -0.01117214 -0.04022305 -0.04113876  0.04131177\n",
            "    0.04287949]\n",
            "  [-0.00026619 -0.01117214 -0.04022305 -0.04113876  0.04131177\n",
            "    0.04287949]\n",
            "  [-0.03679166 -0.01725596 -0.03465562  0.01364831  0.01059065\n",
            "    0.0096755 ]\n",
            "  [ 0.01629931  0.0321804  -0.01120926  0.04874673  0.01574886\n",
            "   -0.01854361]]\n",
            "\n",
            " [[-0.03402239  0.01484262 -0.04938745 -0.02611491 -0.04311947\n",
            "    0.0078673 ]\n",
            "  [ 0.03110642  0.04523039  0.04934033 -0.04028223  0.00414811\n",
            "   -0.01314713]\n",
            "  [-0.03679166 -0.01725596 -0.03465562  0.01364831  0.01059065\n",
            "    0.0096755 ]\n",
            "  [ 0.01629931  0.0321804  -0.01120926  0.04874673  0.01574886\n",
            "   -0.01854361]]\n",
            "\n",
            " [[-0.00026619 -0.01117214 -0.04022305 -0.04113876  0.04131177\n",
            "    0.04287949]\n",
            "  [-0.00026619 -0.01117214 -0.04022305 -0.04113876  0.04131177\n",
            "    0.04287949]\n",
            "  [-0.03679166 -0.01725596 -0.03465562  0.01364831  0.01059065\n",
            "    0.0096755 ]\n",
            "  [ 0.01629931  0.0321804  -0.01120926  0.04874673  0.01574886\n",
            "   -0.01854361]]], shape=(3, 4, 6), dtype=float32)\n"
          ]
        }
      ]
    },
    {
      "cell_type": "code",
      "source": [
        "position_embedding_layer=Embedding(output_sequence_length,output_length)\n",
        "position_indices=tf.range(output_sequence_length)\n",
        "embedded_position_indices=position_embedding_layer(position_indices)\n",
        "print(\"embedded_position_indices are \",embedded_position_indices)"
      ],
      "metadata": {
        "colab": {
          "base_uri": "https://localhost:8080/"
        },
        "id": "WhehVbzcx5xV",
        "outputId": "4371aadb-8d2c-4da5-f12f-53e11b12213a"
      },
      "execution_count": 12,
      "outputs": [
        {
          "output_type": "stream",
          "name": "stdout",
          "text": [
            "embedded_position_indices are  tf.Tensor(\n",
            "[[-0.00111182 -0.0287244   0.04238879 -0.04936264  0.01953176 -0.02011445]\n",
            " [ 0.00745884 -0.01249474  0.00801746 -0.02570411 -0.01420405 -0.03871315]\n",
            " [-0.03694836 -0.01372237  0.03975672  0.04817677  0.02695147  0.02654802]\n",
            " [-0.03100104  0.04975816  0.03986545 -0.03558294 -0.02868148 -0.00455772]], shape=(4, 6), dtype=float32)\n"
          ]
        }
      ]
    },
    {
      "cell_type": "code",
      "source": [
        "final_output_embedding=embedded_words+embedded_position_indices\n",
        "print(\"final_output_embedding \",final_output_embedding)"
      ],
      "metadata": {
        "id": "FSw2WDJvygK_",
        "colab": {
          "base_uri": "https://localhost:8080/"
        },
        "outputId": "cc7ce02f-4308-4b1a-baba-0a758a15c11c"
      },
      "execution_count": 13,
      "outputs": [
        {
          "output_type": "stream",
          "name": "stdout",
          "text": [
            "final_output_embedding  tf.Tensor(\n",
            "[[[-0.00137801 -0.03989653  0.00216573 -0.0905014   0.06084353\n",
            "    0.02276504]\n",
            "  [ 0.00719265 -0.02366688 -0.03220559 -0.06684287  0.02710773\n",
            "    0.00416634]\n",
            "  [-0.07374002 -0.03097833  0.0051011   0.06182507  0.03754212\n",
            "    0.03622352]\n",
            "  [-0.01470173  0.08193856  0.02865618  0.01316379 -0.01293262\n",
            "   -0.02310133]]\n",
            "\n",
            " [[-0.03513421 -0.01388178 -0.00699867 -0.07547754 -0.02358771\n",
            "   -0.01224715]\n",
            "  [ 0.03856527  0.03273565  0.05735779 -0.06598634 -0.01005593\n",
            "   -0.05186027]\n",
            "  [-0.07374002 -0.03097833  0.0051011   0.06182507  0.03754212\n",
            "    0.03622352]\n",
            "  [-0.01470173  0.08193856  0.02865618  0.01316379 -0.01293262\n",
            "   -0.02310133]]\n",
            "\n",
            " [[-0.00137801 -0.03989653  0.00216573 -0.0905014   0.06084353\n",
            "    0.02276504]\n",
            "  [ 0.00719265 -0.02366688 -0.03220559 -0.06684287  0.02710773\n",
            "    0.00416634]\n",
            "  [-0.07374002 -0.03097833  0.0051011   0.06182507  0.03754212\n",
            "    0.03622352]\n",
            "  [-0.01470173  0.08193856  0.02865618  0.01316379 -0.01293262\n",
            "   -0.02310133]]], shape=(3, 4, 6), dtype=float32)\n"
          ]
        }
      ]
    },
    {
      "cell_type": "markdown",
      "source": [
        "# Positional Encoding in Transformers"
      ],
      "metadata": {
        "id": "jjqFRS5VH5s4"
      }
    },
    {
      "cell_type": "code",
      "source": [
        "vectorized_words"
      ],
      "metadata": {
        "colab": {
          "base_uri": "https://localhost:8080/"
        },
        "id": "iFpoiNlJJELw",
        "outputId": "62e29e98-5649-40e2-9665-3ccda280ec3a"
      },
      "execution_count": 18,
      "outputs": [
        {
          "output_type": "execute_result",
          "data": {
            "text/plain": [
              "<tf.Tensor: shape=(3, 4), dtype=int64, numpy=\n",
              "array([[1, 1, 2, 0],\n",
              "       [3, 4, 2, 0],\n",
              "       [1, 1, 2, 0]])>"
            ]
          },
          "metadata": {},
          "execution_count": 18
        }
      ]
    },
    {
      "cell_type": "code",
      "source": [
        "from positional_encoding import  PositionEmbeddingFixedWeights\n",
        "from positional_encoding import  PositionEmbeddingLayer"
      ],
      "metadata": {
        "id": "OSw6qSj9N3zl"
      },
      "execution_count": 26,
      "outputs": []
    },
    {
      "cell_type": "code",
      "source": [
        "\n",
        "pefw=PositionEmbeddingFixedWeights(output_sequence_length,vocab_size,output_length)\n",
        "print(\"Output of PositionalEmbeddingFixedWeights::\",pefw(vectorized_words))"
      ],
      "metadata": {
        "colab": {
          "base_uri": "https://localhost:8080/"
        },
        "id": "n_I-mY9IH9lG",
        "outputId": "8377a119-cc2b-4682-9710-ed4df177bfe6"
      },
      "execution_count": 25,
      "outputs": [
        {
          "output_type": "stream",
          "name": "stdout",
          "text": [
            "Output of PositionalEmbeddingFixedWeights:: tf.Tensor(\n",
            "[[[ 0.84147096  1.5403023   0.04639922  1.9989231   0.00215443\n",
            "    1.9999976 ]\n",
            "  [ 1.6829419   1.0806046   0.09279845  1.997846    0.00430887\n",
            "    1.9999954 ]\n",
            "  [ 1.8185948  -0.8322937   0.185397    1.9913884   0.00861771\n",
            "    1.9999814 ]\n",
            "  [ 0.14112     0.0100075   0.1387981   1.9903207   0.00646326\n",
            "    1.9999791 ]]\n",
            "\n",
            " [[ 0.14112     0.0100075   0.1387981   1.9903207   0.00646326\n",
            "    1.9999791 ]\n",
            "  [ 0.08466846 -0.11334133  0.23099795  1.9817369   0.01077207\n",
            "    1.9999605 ]\n",
            "  [ 1.8185948  -0.8322937   0.185397    1.9913884   0.00861771\n",
            "    1.9999814 ]\n",
            "  [ 0.14112     0.0100075   0.1387981   1.9903207   0.00646326\n",
            "    1.9999791 ]]\n",
            "\n",
            " [[ 0.84147096  1.5403023   0.04639922  1.9989231   0.00215443\n",
            "    1.9999976 ]\n",
            "  [ 1.6829419   1.0806046   0.09279845  1.997846    0.00430887\n",
            "    1.9999954 ]\n",
            "  [ 1.8185948  -0.8322937   0.185397    1.9913884   0.00861771\n",
            "    1.9999814 ]\n",
            "  [ 0.14112     0.0100075   0.1387981   1.9903207   0.00646326\n",
            "    1.9999791 ]]], shape=(3, 4, 6), dtype=float32)\n"
          ]
        }
      ]
    },
    {
      "cell_type": "markdown",
      "source": [
        "# Visualizing the final Embeddings"
      ],
      "metadata": {
        "id": "08S6Xu-nJRzG"
      }
    },
    {
      "cell_type": "code",
      "source": [
        "sentence1 = \"I am trying to understand Positional Embeddings. I hope this notebook helps me visualize what I understand!!!\"\n",
        "sentence2 = \"Really... Understanding is a seductive lie my dear friend. Everything you believe that you understand is nothing a game played on you by someone else\"\n",
        "sentence3= \"I am bit lost here\"\n",
        "all_sentences=[sentence1,sentence2,sentence3]"
      ],
      "metadata": {
        "id": "aS8R1bKhJnA2"
      },
      "execution_count": 33,
      "outputs": []
    },
    {
      "cell_type": "code",
      "source": [
        "vocab_size=200\n",
        "output_sequence_length=20\n",
        "output_length=50\n",
        "tv= TextVectorization(output_sequence_length=output_sequence_length,max_tokens=vocab_size)\n",
        "tv.adapt(all_sentences)\n",
        "print(\"type of all_sentences is \",type(all_sentences))\n",
        "convert_to_tensor(all_sentences,dtype=tf.string)\n",
        "print(\"type of all_sentences is \",type(all_sentences))\n",
        "vectorized_sentences=tv(all_sentences)\n",
        "print(\"type of vectorized_sentences is \",type(vectorized_sentences))\n",
        "\n",
        "random_weights_embedding_layer=PositionEmbeddingLayer(output_sequence_length,vocab_size,output_length)\n",
        "fixed_weights_embedding_layer=PositionEmbeddingFixedWeights(output_sequence_length,vocab_size,output_length)\n",
        "random_weights_embedding=random_weights_embedding_layer(vectorized_sentences)\n",
        "fixed_weights_embedding=fixed_weights_embedding_layer(vectorized_sentences)\n",
        "\n",
        "\n"
      ],
      "metadata": {
        "colab": {
          "base_uri": "https://localhost:8080/"
        },
        "id": "418TX5NwKDn9",
        "outputId": "6f5351c3-9ff6-4d4c-85bc-5678f6bc1b32"
      },
      "execution_count": 36,
      "outputs": [
        {
          "output_type": "stream",
          "name": "stdout",
          "text": [
            "type of all_sentences is  <class 'list'>\n",
            "type of all_sentences is  <class 'list'>\n",
            "type of vectorized_sentences is  <class 'tensorflow.python.framework.ops.EagerTensor'>\n"
          ]
        }
      ]
    },
    {
      "cell_type": "code",
      "source": [
        "print(random_weights_embedding.shape)"
      ],
      "metadata": {
        "colab": {
          "base_uri": "https://localhost:8080/"
        },
        "id": "6KTd1vbiO1QS",
        "outputId": "ada56e4a-ce70-4226-d19c-772800d84ff8"
      },
      "execution_count": 37,
      "outputs": [
        {
          "output_type": "stream",
          "name": "stdout",
          "text": [
            "(3, 20, 50)\n"
          ]
        }
      ]
    },
    {
      "cell_type": "code",
      "source": [
        "print(fixed_weights_embedding.shape)"
      ],
      "metadata": {
        "colab": {
          "base_uri": "https://localhost:8080/"
        },
        "id": "ZWeYCoQlO5Cs",
        "outputId": "509df1ca-f2e3-489c-ad02-b716ce82cdf4"
      },
      "execution_count": 38,
      "outputs": [
        {
          "output_type": "stream",
          "name": "stdout",
          "text": [
            "(3, 20, 50)\n"
          ]
        }
      ]
    },
    {
      "cell_type": "markdown",
      "source": [
        "# Plot Random weights Embeddings"
      ],
      "metadata": {
        "id": "llhkx7EOOXOM"
      }
    },
    {
      "cell_type": "code",
      "source": [
        "def plot_embeddedings(embeddings,plot_title):\n",
        "    fig=plt.figure(figsize=(12,8))\n",
        "    title=['sentence1','sentence2']\n",
        "    for i in range(2):\n",
        "        ax=plt.subplot(1,2,1+i)\n",
        "        #matrix=tf.reshape(embeddings[i,:,:],(output_sequence_length,output_length))\n",
        "        #cax=ax.matshow(matrix)\n",
        "        cax=ax.matshow(embeddings[i,:,:])\n",
        "        plt.gcf().colorbar(cax)\n",
        "        plt.title(title[i],y=1.2)\n",
        "    fig.suptitle(plot_title)\n",
        "    plt.show()   \n"
      ],
      "metadata": {
        "id": "lNSCcZSNOayU"
      },
      "execution_count": 54,
      "outputs": []
    },
    {
      "cell_type": "code",
      "source": [
        "print(random_weights_embedding.shape)\n",
        "print(random_weights_embedding[0,:,:].shape)\n",
        "print(output_sequence_length,output_length)\n",
        "plot_embeddedings(random_weights_embedding,'Random Embeddings')\n"
      ],
      "metadata": {
        "colab": {
          "base_uri": "https://localhost:8080/",
          "height": 785
        },
        "id": "Ae_VDOJHQrfb",
        "outputId": "1dc9d057-fd56-4c0d-f9bf-0a236e167c59"
      },
      "execution_count": 53,
      "outputs": [
        {
          "output_type": "stream",
          "name": "stdout",
          "text": [
            "(3, 20, 50)\n",
            "(20, 50)\n",
            "20 50\n"
          ]
        },
        {
          "output_type": "display_data",
          "data": {
            "text/plain": [
              "<Figure size 1200x800 with 4 Axes>"
            ],
            "image/png": "[encoded data removed]"
          },
          "metadata": {}
        }
      ]
    },
    {
      "cell_type": "code",
      "source": [
        "print(fixed_weights_embedding.shape)\n",
        "print(fixed_weights_embedding[0,:,:].shape)\n",
        "print(output_sequence_length,output_length)\n",
        "plot_embeddedings(fixed_weights_embedding,'Fixed with Sinusoidal Embeddings')"
      ],
      "metadata": {
        "colab": {
          "base_uri": "https://localhost:8080/",
          "height": 785
        },
        "id": "Gy0CbumiRp4-",
        "outputId": "f630d4d0-ddf6-459f-9109-595ea8736225"
      },
      "execution_count": 55,
      "outputs": [
        {
          "output_type": "stream",
          "name": "stdout",
          "text": [
            "(3, 20, 50)\n",
            "(20, 50)\n",
            "20 50\n"
          ]
        },
        {
          "output_type": "display_data",
          "data": {
            "text/plain": [
              "<Figure size 1200x800 with 4 Axes>"
            ],
            "image/png": "[encoded data removed]"
          },
          "metadata": {}
        }
      ]
    }
  ]
}