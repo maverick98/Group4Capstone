{
  "nbformat": 4,
  "nbformat_minor": 0,
  "metadata": {
    "colab": {
      "provenance": [],
      "collapsed_sections": [
        "y3PVm73kLwfK",
        "KujElPN-Orji"
      ],
      "authorship_tag": "ABX9TyNvZSCkKt718uJlj/fGpSUm",
      "include_colab_link": true
    },
    "kernelspec": {
      "name": "python3",
      "display_name": "Python 3"
    },
    "language_info": {
      "name": "python"
    }
  },
  "cells": [
    {
      "cell_type": "markdown",
      "metadata": {
        "id": "view-in-github",
        "colab_type": "text"
      },
      "source": [
        "<a href=\"https://colab.research.google.com/github/maverick98/Group4Capstone/blob/main/encoder_demo.ipynb\" target=\"_parent\"><img src=\"https://colab.research.google.com/assets/colab-badge.svg\" alt=\"Open In Colab\"/></a>"
      ]
    },
    {
      "cell_type": "markdown",
      "source": [
        "# Import necessary libraries"
      ],
      "metadata": {
        "id": "y3PVm73kLwfK"
      }
    },
    {
      "cell_type": "code",
      "source": [
        "import numpy as np\n",
        "import string\n",
        "import tensorflow as tf\n",
        "from tensorflow import math, matmul, reshape, shape, transpose, cast, float32\n",
        "from tensorflow.data import Dataset\n",
        "from tensorflow.keras.layers import Embedding,Dense, Layer,TextVectorization\n",
        "from tensorflow.keras.backend import softmax\n",
        "from pickle import load, dump, HIGHEST_PROTOCOL\n",
        "from sklearn.utils import shuffle\n",
        "from numpy import savetxt\n",
        "from tensorflow.keras.preprocessing.text import Tokenizer\n",
        "from tensorflow.keras.preprocessing.sequence import pad_sequences\n",
        "from tensorflow import convert_to_tensor, int64\n",
        "from tensorflow.keras.layers import LayerNormalization,   ReLU, Dropout\n",
        "from tensorflow.keras.optimizers import Adam\n",
        "from tensorflow.keras.optimizers.schedules import LearningRateSchedule\n",
        "from tensorflow.keras.metrics import Mean\n",
        "from tensorflow import data, train,  reduce_sum,  equal, argmax,GradientTape, function\n",
        "from tensorflow.keras.losses import sparse_categorical_crossentropy\n",
        "from time import time\n",
        "from pickle import dump\n",
        "from tensorflow import    linalg, ones, maximum, newaxis\n",
        "from tensorflow.keras import Model\n",
        "from pickle import load\n",
        "from tensorflow import Module\n",
        "from tensorflow import   TensorArray, argmax,  transpose\n",
        "from matplotlib.pylab import plt\n",
        "from numpy import arange\n",
        "\n",
        "from keras.utils import to_categorical\n",
        "import numpy as np\n",
        "from numpy import array\n",
        "import pandas as pd\n",
        "import cv2\n",
        "from glob import glob\n",
        "import PIL\n",
        "import time\n",
        "from tqdm import tqdm\n",
        "import os\n",
        "#import gensim\n",
        "from sklearn.model_selection import train_test_split\n",
        "from nltk.translate.bleu_score import sentence_bleu\n",
        "from PIL import Image\n",
        "from numpy import random\n",
        "from importlib.machinery import SourceFileLoader\n",
        "from os.path import join\n",
        "from google.colab import drive"
      ],
      "metadata": {
        "id": "n6BDkBbELu8q"
      },
      "execution_count": null,
      "outputs": []
    },
    {
      "cell_type": "markdown",
      "source": [
        "# Check if connected to GPU"
      ],
      "metadata": {
        "id": "KujElPN-Orji"
      }
    },
    {
      "cell_type": "code",
      "source": [
        "gpu_info = !nvidia-smi\n",
        "gpu_info = '\\n'.join(gpu_info)\n",
        "if gpu_info.find('failed') >= 0:\n",
        "  print('Not connected to a GPU')\n",
        "else:\n",
        "  print(gpu_info)"
      ],
      "metadata": {
        "colab": {
          "base_uri": "https://localhost:8080/"
        },
        "id": "w_5u_9YyOpNz",
        "outputId": "97e3478e-0e7e-45f1-828b-c9f5ca884a1d"
      },
      "execution_count": null,
      "outputs": [
        {
          "output_type": "stream",
          "name": "stdout",
          "text": [
            "Not connected to a GPU\n"
          ]
        }
      ]
    },
    {
      "cell_type": "markdown",
      "source": [
        "# Mount Google Drive"
      ],
      "metadata": {
        "id": "XM1nAEvvKm1E"
      }
    },
    {
      "cell_type": "code",
      "execution_count": null,
      "metadata": {
        "colab": {
          "base_uri": "https://localhost:8080/"
        },
        "id": "ixOYqR2r7T-Q",
        "outputId": "d8a3fbb5-cb0c-42f6-e72f-b60f5917c62c"
      },
      "outputs": [
        {
          "output_type": "stream",
          "name": "stdout",
          "text": [
            "Mounted at /content/drive\n"
          ]
        }
      ],
      "source": [
        "\n",
        "\n",
        "ROOT = \"/content/drive\"\n",
        "drive.mount(ROOT,force_remount=True)\n",
        "\n",
        "\n"
      ]
    },
    {
      "cell_type": "code",
      "source": [
        "PROJ = \"MyDrive/Capstone/src\" \n",
        "PROJECT_PATH = join(ROOT, PROJ)\n",
        "print(\"PROJECT_PATH from your Google Drive is \",PROJECT_PATH)\n",
        "!rm -rf \"{PROJECT_PATH}\"\n",
        "!mkdir  \"{PROJECT_PATH}\""
      ],
      "metadata": {
        "colab": {
          "base_uri": "https://localhost:8080/"
        },
        "id": "pCYv8FkDM6B_",
        "outputId": "68064e9e-bc88-4326-f6cb-2091feba186d"
      },
      "execution_count": null,
      "outputs": [
        {
          "output_type": "stream",
          "name": "stdout",
          "text": [
            "PROJECT_PATH from your Google Drive is  /content/drive/MyDrive/Capstone/src\n"
          ]
        }
      ]
    },
    {
      "cell_type": "markdown",
      "source": [
        "# Clone the code from https://sourceforge.net/projects/group4capstone/"
      ],
      "metadata": {
        "id": "IVa7Vdx4d2NL"
      }
    },
    {
      "cell_type": "code",
      "source": [
        "%cd \"{PROJECT_PATH}\"\n",
        "!pwd\n",
        "MY_USER_NAME = 'msahu98' # This is your sourceforge.net username\n",
        "!git clone https://{MY_USER_NAME}@git.code.sf.net/p/group4capstone/code group4capstone-code"
      ],
      "metadata": {
        "colab": {
          "base_uri": "https://localhost:8080/"
        },
        "id": "yBHIG28dd6Dp",
        "outputId": "4e672500-0907-4204-c70b-99fae9ee8fad"
      },
      "execution_count": null,
      "outputs": [
        {
          "output_type": "stream",
          "name": "stdout",
          "text": [
            "/content/drive/MyDrive/Capstone/src\n",
            "/content/drive/MyDrive/Capstone/src\n",
            "Cloning into 'group4capstone-code'...\n",
            "remote: Enumerating objects: 35, done.\u001b[K\n",
            "remote: Counting objects: 100% (35/35), done.\u001b[K\n",
            "remote: Compressing objects: 100% (27/27), done.\u001b[K\n",
            "remote: Total 35 (delta 14), reused 0 (delta 0)\u001b[K\n",
            "Unpacking objects: 100% (35/35), 5.08 KiB | 11.00 KiB/s, done.\n"
          ]
        }
      ]
    },
    {
      "cell_type": "code",
      "source": [],
      "metadata": {
        "id": "6mGLrsMzd1SO"
      },
      "execution_count": null,
      "outputs": []
    },
    {
      "cell_type": "markdown",
      "source": [
        "# Load Modules"
      ],
      "metadata": {
        "id": "X2WOLpG1LoqU"
      }
    },
    {
      "cell_type": "code",
      "source": [
        "PROJECT_PATH \n",
        "#/content/drive/MyDrive/Capstone/src/group4capstone-code/src/positional_encoding.py"
      ],
      "metadata": {
        "colab": {
          "base_uri": "https://localhost:8080/",
          "height": 35
        },
        "id": "oQgm8lMlfVuq",
        "outputId": "d1ff99ef-bc6f-43a9-a2eb-8d7e6a160198"
      },
      "execution_count": null,
      "outputs": [
        {
          "output_type": "execute_result",
          "data": {
            "text/plain": [
              "'/content/drive/MyDrive/Capstone/src'"
            ],
            "application/vnd.google.colaboratory.intrinsic+json": {
              "type": "string"
            }
          },
          "metadata": {},
          "execution_count": 6
        }
      ]
    },
    {
      "cell_type": "code",
      "source": [
        "def load_module(module_name):\n",
        "    module_py=module_name+'.py'\n",
        "    SourceFileLoader(module_name, join(join(PROJECT_PATH,'group4capstone-code/src'), module_py)).load_module()\n",
        "\n"
      ],
      "metadata": {
        "id": "ZjQo8Ho19CS1"
      },
      "execution_count": null,
      "outputs": []
    },
    {
      "cell_type": "code",
      "source": [
        "load_module('positional_encoding')\n",
        "load_module('multihead_attention')"
      ],
      "metadata": {
        "id": "5WQfX_GiMKN_"
      },
      "execution_count": null,
      "outputs": []
    },
    {
      "cell_type": "markdown",
      "source": [
        "# Testing MultiHead Attention"
      ],
      "metadata": {
        "id": "VftGApgSmT2x"
      }
    },
    {
      "cell_type": "code",
      "source": [
        "from multihead_attention import MultiHeadAttention"
      ],
      "metadata": {
        "id": "IzHONqJkm-2h"
      },
      "execution_count": null,
      "outputs": []
    },
    {
      "cell_type": "code",
      "source": [
        "input_sequence_length=5\n",
        "h=8\n",
        "d_k=64\n",
        "d_v=64\n",
        "d_model=512\n",
        "batch_size=64\n",
        "\n",
        "queries=random.random((batch_size,input_sequence_length,d_k))\n",
        "keys=random.random((batch_size,input_sequence_length,d_k))\n",
        "values=random.random((batch_size,input_sequence_length,d_v))\n",
        "\n",
        "multihead_attention=MultiHeadAttention(h,d_k,d_v,d_model)\n",
        "print(multihead_attention(queries,keys,values))\n"
      ],
      "metadata": {
        "colab": {
          "base_uri": "https://localhost:8080/"
        },
        "id": "Wi3pluGAmaVZ",
        "outputId": "c86931ad-bddc-4acf-f3b9-89c660e3d516"
      },
      "execution_count": null,
      "outputs": [
        {
          "output_type": "stream",
          "name": "stdout",
          "text": [
            "tf.Tensor(\n",
            "[[[ 0.2187462   0.31870127 -0.2825448  ...  0.37853998  0.1079442\n",
            "    0.18251134]\n",
            "  [ 0.21780103  0.31905243 -0.2812261  ...  0.37911668  0.10939422\n",
            "    0.1822653 ]\n",
            "  [ 0.21964446  0.3168432  -0.28243166 ...  0.3786004   0.10967799\n",
            "    0.18202148]\n",
            "  [ 0.21990384  0.3196101  -0.2816324  ...  0.37934804  0.11193451\n",
            "    0.18338126]\n",
            "  [ 0.21716785  0.31870785 -0.28117752 ...  0.37688065  0.10942468\n",
            "    0.18313786]]\n",
            "\n",
            " [[ 0.29924825  0.22627707 -0.28166434 ...  0.36505696  0.12152208\n",
            "    0.13790134]\n",
            "  [ 0.29680395  0.22673793 -0.28295526 ...  0.36709487  0.12188124\n",
            "    0.13330491]\n",
            "  [ 0.2973443   0.22819935 -0.28236926 ...  0.3654768   0.12062161\n",
            "    0.1395072 ]\n",
            "  [ 0.2972151   0.22168829 -0.28063664 ...  0.36478835  0.11846835\n",
            "    0.13812341]\n",
            "  [ 0.297019    0.22660942 -0.28069863 ...  0.36630607  0.12139828\n",
            "    0.13825369]]\n",
            "\n",
            " [[ 0.10217858  0.26448727 -0.13536486 ...  0.37133992  0.18437816\n",
            "    0.17794415]\n",
            "  [ 0.09915686  0.2690205  -0.14099953 ...  0.37558654  0.18429577\n",
            "    0.18324845]\n",
            "  [ 0.10392114  0.26718596 -0.14089017 ...  0.37280324  0.1852001\n",
            "    0.18123066]\n",
            "  [ 0.10274468  0.25924486 -0.13818602 ...  0.36744073  0.18267623\n",
            "    0.18146853]\n",
            "  [ 0.10051256  0.260787   -0.13690332 ...  0.36914408  0.18123944\n",
            "    0.17921089]]\n",
            "\n",
            " ...\n",
            "\n",
            " [[ 0.2961381   0.24393238 -0.26872134 ...  0.42909282  0.09612533\n",
            "    0.23502518]\n",
            "  [ 0.29475474  0.24415079 -0.26803687 ...  0.42935714  0.09446471\n",
            "    0.23476495]\n",
            "  [ 0.2958766   0.24385309 -0.26988912 ...  0.4256971   0.09715802\n",
            "    0.233348  ]\n",
            "  [ 0.2967907   0.24138115 -0.26908216 ...  0.42288738  0.09788998\n",
            "    0.22978278]\n",
            "  [ 0.29693362  0.24303286 -0.26777136 ...  0.4269634   0.09533417\n",
            "    0.23292236]]\n",
            "\n",
            " [[ 0.22866668  0.2739325  -0.27939856 ...  0.35186642  0.11025766\n",
            "    0.18432263]\n",
            "  [ 0.23296686  0.27301463 -0.2799905  ...  0.35174     0.1090223\n",
            "    0.18371056]\n",
            "  [ 0.23193817  0.2721895  -0.28003198 ...  0.35295546  0.10904442\n",
            "    0.18307419]\n",
            "  [ 0.23002352  0.27415773 -0.27711678 ...  0.35322937  0.10901238\n",
            "    0.18244593]\n",
            "  [ 0.23205684  0.2716504  -0.27864215 ...  0.34813222  0.11167358\n",
            "    0.18390322]]\n",
            "\n",
            " [[ 0.17031355  0.35443026 -0.3513779  ...  0.42178226  0.12003388\n",
            "    0.12444563]\n",
            "  [ 0.17353827  0.35227072 -0.35498288 ...  0.41885486  0.11926702\n",
            "    0.12279706]\n",
            "  [ 0.16895081  0.3552588  -0.35192698 ...  0.422153    0.11830074\n",
            "    0.12468269]\n",
            "  [ 0.17097194  0.35436708 -0.35133702 ...  0.4210439   0.12105354\n",
            "    0.1256391 ]\n",
            "  [ 0.17128685  0.35491568 -0.35346442 ...  0.42212573  0.11995804\n",
            "    0.12588459]]], shape=(64, 5, 512), dtype=float32)\n"
          ]
        }
      ]
    }
  ]
}