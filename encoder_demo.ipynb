{
  "nbformat": 4,
  "nbformat_minor": 0,
  "metadata": {
    "colab": {
      "provenance": [],
      "collapsed_sections": [
        "y3PVm73kLwfK",
        "KujElPN-Orji"
      ],
      "authorship_tag": "ABX9TyNRJe8NXV46eHHTJRDDQHI5",
      "include_colab_link": true
    },
    "kernelspec": {
      "name": "python3",
      "display_name": "Python 3"
    },
    "language_info": {
      "name": "python"
    }
  },
  "cells": [
    {
      "cell_type": "markdown",
      "metadata": {
        "id": "view-in-github",
        "colab_type": "text"
      },
      "source": [
        "<a href=\"https://colab.research.google.com/github/maverick98/Group4Capstone/blob/main/encoder_demo.ipynb\" target=\"_parent\"><img src=\"https://colab.research.google.com/assets/colab-badge.svg\" alt=\"Open In Colab\"/></a>"
      ]
    },
    {
      "cell_type": "markdown",
      "source": [
        "# Import necessary libraries"
      ],
      "metadata": {
        "id": "y3PVm73kLwfK"
      }
    },
    {
      "cell_type": "code",
      "source": [
        "import numpy as np\n",
        "import string\n",
        "import tensorflow as tf\n",
        "from tensorflow import math, matmul, reshape, shape, transpose, cast, float32\n",
        "from tensorflow.data import Dataset\n",
        "from tensorflow.keras.layers import Embedding,Dense, Layer,TextVectorization\n",
        "from tensorflow.keras.backend import softmax\n",
        "from pickle import load, dump, HIGHEST_PROTOCOL\n",
        "from sklearn.utils import shuffle\n",
        "from numpy import savetxt\n",
        "from tensorflow.keras.preprocessing.text import Tokenizer\n",
        "from tensorflow.keras.preprocessing.sequence import pad_sequences\n",
        "from tensorflow import convert_to_tensor, int64\n",
        "from tensorflow.keras.layers import LayerNormalization,   ReLU, Dropout\n",
        "from tensorflow.keras.optimizers import Adam\n",
        "from tensorflow.keras.optimizers.schedules import LearningRateSchedule\n",
        "from tensorflow.keras.metrics import Mean\n",
        "from tensorflow import data, train,  reduce_sum,  equal, argmax,GradientTape, function\n",
        "from tensorflow.keras.losses import sparse_categorical_crossentropy\n",
        "from time import time\n",
        "from pickle import dump\n",
        "from tensorflow import    linalg, ones, maximum, newaxis\n",
        "from tensorflow.keras import Model\n",
        "from pickle import load\n",
        "from tensorflow import Module\n",
        "from tensorflow import   TensorArray, argmax,  transpose\n",
        "from matplotlib.pylab import plt\n",
        "from numpy import arange\n",
        "\n",
        "from keras.utils import to_categorical\n",
        "import numpy as np\n",
        "from numpy import array\n",
        "import pandas as pd\n",
        "import cv2\n",
        "from glob import glob\n",
        "import PIL\n",
        "import time\n",
        "from tqdm import tqdm\n",
        "import os\n",
        "#import gensim\n",
        "from sklearn.model_selection import train_test_split\n",
        "from nltk.translate.bleu_score import sentence_bleu\n",
        "from PIL import Image\n",
        "from numpy import random\n",
        "from importlib.machinery import SourceFileLoader\n",
        "from os.path import join\n",
        "from google.colab import drive"
      ],
      "metadata": {
        "id": "n6BDkBbELu8q"
      },
      "execution_count": 1,
      "outputs": []
    },
    {
      "cell_type": "markdown",
      "source": [
        "# Check if connected to GPU"
      ],
      "metadata": {
        "id": "KujElPN-Orji"
      }
    },
    {
      "cell_type": "code",
      "source": [
        "gpu_info = !nvidia-smi\n",
        "gpu_info = '\\n'.join(gpu_info)\n",
        "if gpu_info.find('failed') >= 0:\n",
        "  print('Not connected to a GPU')\n",
        "else:\n",
        "  print(gpu_info)"
      ],
      "metadata": {
        "colab": {
          "base_uri": "https://localhost:8080/"
        },
        "id": "w_5u_9YyOpNz",
        "outputId": "a2be1512-2979-4ccc-b0f3-40b2b0fb8f8a"
      },
      "execution_count": 2,
      "outputs": [
        {
          "output_type": "stream",
          "name": "stdout",
          "text": [
            "Not connected to a GPU\n"
          ]
        }
      ]
    },
    {
      "cell_type": "markdown",
      "source": [
        "# Mount Google Drive"
      ],
      "metadata": {
        "id": "XM1nAEvvKm1E"
      }
    },
    {
      "cell_type": "code",
      "execution_count": 3,
      "metadata": {
        "colab": {
          "base_uri": "https://localhost:8080/"
        },
        "id": "ixOYqR2r7T-Q",
        "outputId": "fe63dd4a-afd1-4442-d5b0-14bf36b40bd2"
      },
      "outputs": [
        {
          "output_type": "stream",
          "name": "stdout",
          "text": [
            "Mounted at /content/drive\n"
          ]
        }
      ],
      "source": [
        "\n",
        "\n",
        "ROOT = \"/content/drive\"\n",
        "drive.mount(ROOT,force_remount=True)\n",
        "\n",
        "\n"
      ]
    },
    {
      "cell_type": "code",
      "source": [
        "PROJ = \"MyDrive/Capstone/src\" \n",
        "PROJECT_PATH = join(ROOT, PROJ)\n",
        "print(\"PROJECT_PATH from your Google Drive is \",PROJECT_PATH)\n",
        "!rm -rf \"{PROJECT_PATH}\"\n",
        "!mkdir  \"{PROJECT_PATH}\""
      ],
      "metadata": {
        "colab": {
          "base_uri": "https://localhost:8080/"
        },
        "id": "pCYv8FkDM6B_",
        "outputId": "83a8b489-2a64-4f15-d7f3-a2d3081cf42e"
      },
      "execution_count": 4,
      "outputs": [
        {
          "output_type": "stream",
          "name": "stdout",
          "text": [
            "PROJECT_PATH from your Google Drive is  /content/drive/MyDrive/Capstone/src\n"
          ]
        }
      ]
    },
    {
      "cell_type": "markdown",
      "source": [
        "# Clone the code from https://sourceforge.net/projects/group4capstone/"
      ],
      "metadata": {
        "id": "IVa7Vdx4d2NL"
      }
    },
    {
      "cell_type": "code",
      "source": [
        "%cd \"{PROJECT_PATH}\"\n",
        "!pwd\n",
        "MY_USER_NAME = 'msahu98' # This is your sourceforge.net username\n",
        "!git clone https://{MY_USER_NAME}@git.code.sf.net/p/group4capstone/code group4capstone-code"
      ],
      "metadata": {
        "colab": {
          "base_uri": "https://localhost:8080/"
        },
        "id": "yBHIG28dd6Dp",
        "outputId": "7e3bda0c-8a7d-4278-f63e-d5dbb9ad48b5"
      },
      "execution_count": 5,
      "outputs": [
        {
          "output_type": "stream",
          "name": "stdout",
          "text": [
            "/content/drive/MyDrive/Capstone/src\n",
            "/content/drive/MyDrive/Capstone/src\n",
            "Cloning into 'group4capstone-code'...\n",
            "remote: Enumerating objects: 39, done.\u001b[K\n",
            "remote: Counting objects: 100% (39/39), done.\u001b[K\n",
            "remote: Compressing objects: 100% (30/30), done.\u001b[K\n",
            "remote: Total 39 (delta 18), reused 0 (delta 0)\u001b[K\n",
            "Unpacking objects: 100% (39/39), 5.25 KiB | 9.00 KiB/s, done.\n"
          ]
        }
      ]
    },
    {
      "cell_type": "code",
      "source": [],
      "metadata": {
        "id": "6mGLrsMzd1SO"
      },
      "execution_count": 5,
      "outputs": []
    },
    {
      "cell_type": "markdown",
      "source": [
        "# Load Modules"
      ],
      "metadata": {
        "id": "X2WOLpG1LoqU"
      }
    },
    {
      "cell_type": "code",
      "source": [
        "PROJECT_PATH \n",
        "#/content/drive/MyDrive/Capstone/src/group4capstone-code/src/positional_encoding.py"
      ],
      "metadata": {
        "colab": {
          "base_uri": "https://localhost:8080/",
          "height": 35
        },
        "id": "oQgm8lMlfVuq",
        "outputId": "6ada418e-4a41-4bbb-86c9-78d5cbd629bf"
      },
      "execution_count": 6,
      "outputs": [
        {
          "output_type": "execute_result",
          "data": {
            "text/plain": [
              "'/content/drive/MyDrive/Capstone/src'"
            ],
            "application/vnd.google.colaboratory.intrinsic+json": {
              "type": "string"
            }
          },
          "metadata": {},
          "execution_count": 6
        }
      ]
    },
    {
      "cell_type": "code",
      "source": [
        "def load_module(module_name):\n",
        "    module_py=module_name+'.py'\n",
        "    SourceFileLoader(module_name, join(join(PROJECT_PATH,'group4capstone-code/src'), module_py)).load_module()\n",
        "\n"
      ],
      "metadata": {
        "id": "ZjQo8Ho19CS1"
      },
      "execution_count": 7,
      "outputs": []
    },
    {
      "cell_type": "code",
      "source": [
        "load_module('positional_encoding')\n",
        "load_module('multihead_attention')\n",
        "load_module('encoder')"
      ],
      "metadata": {
        "id": "5WQfX_GiMKN_"
      },
      "execution_count": 9,
      "outputs": []
    },
    {
      "cell_type": "markdown",
      "source": [
        "# Testing Encoder"
      ],
      "metadata": {
        "id": "VftGApgSmT2x"
      }
    },
    {
      "cell_type": "code",
      "source": [
        "from encoder import Encoder"
      ],
      "metadata": {
        "id": "IzHONqJkm-2h"
      },
      "execution_count": 10,
      "outputs": []
    },
    {
      "cell_type": "code",
      "source": [
        "enc_vocab_size=20\n",
        "input_sequence_length=8\n",
        "h=8\n",
        "d_k=64\n",
        "d_v=64\n",
        "d_ff=2048\n",
        "d_model=512\n",
        "num_layers=6\n",
        "\n",
        "batch_size=64\n",
        "dropout_rate=0.1\n",
        "\n",
        "input_seq=random.random((batch_size,input_sequence_length))\n",
        "\n",
        "encoder=Encoder(enc_vocab_size,input_sequence_length,h,d_k,d_v,d_model,d_ff,num_layers,dropout_rate)\n",
        "\n",
        "print(encoder(input_seq,padding_mask=None,training=True))\n"
      ],
      "metadata": {
        "colab": {
          "base_uri": "https://localhost:8080/"
        },
        "id": "Wi3pluGAmaVZ",
        "outputId": "2b60b9aa-99e2-4a2b-9ef2-463ddab4c9f2"
      },
      "execution_count": 12,
      "outputs": [
        {
          "output_type": "stream",
          "name": "stdout",
          "text": [
            "tf.Tensor(\n",
            "[[[-1.7563188   0.10104149  0.21843672 ...  0.600049    0.35095766\n",
            "    1.3465277 ]\n",
            "  [-1.6606164   1.515327    0.28312877 ...  1.778362   -0.73897165\n",
            "    0.6474891 ]\n",
            "  [-1.4082707   0.5006115  -0.29017863 ...  1.5657922   0.26209554\n",
            "    1.0638132 ]\n",
            "  ...\n",
            "  [-1.250247    1.0723274   0.12566939 ...  1.9732155  -0.9338053\n",
            "    0.8768677 ]\n",
            "  [-0.6528252   0.85558766  0.4314654  ...  1.5720814  -0.16231823\n",
            "    0.946105  ]\n",
            "  [-0.76195806  0.6042593   0.55127    ...  1.9551245  -0.41656932\n",
            "    0.7318749 ]]\n",
            "\n",
            " [[-1.8593974   0.31169096  0.38394824 ...  1.022769   -0.24383919\n",
            "    1.072357  ]\n",
            "  [-1.4817888   0.8366146   0.522437   ...  0.66269124  0.08981203\n",
            "    1.3886139 ]\n",
            "  [-1.2826091   0.2688537   0.41702363 ...  1.1259091  -0.23031439\n",
            "    1.2635586 ]\n",
            "  ...\n",
            "  [-1.9255279   0.6372932   0.6649915  ...  1.597045   -1.1487067\n",
            "    1.2246901 ]\n",
            "  [-0.97825354  1.269745    0.43202013 ...  1.0715958  -0.68836504\n",
            "    1.0849384 ]\n",
            "  [-1.6181246  -0.6008352  -0.25560746 ...  1.8434291   0.55905426\n",
            "    1.3952777 ]]\n",
            "\n",
            " [[-1.3528011   1.006067    0.1416038  ...  0.9536132  -0.3079833\n",
            "   -0.3056736 ]\n",
            "  [-1.4475896   1.1440172   0.11546271 ...  1.5072322  -0.11842088\n",
            "    0.73831606]\n",
            "  [-1.3278964   0.6871408   0.2959931  ...  0.8651036   0.13252318\n",
            "    0.41125003]\n",
            "  ...\n",
            "  [-1.413943    0.7449828   0.7269684  ...  1.3350444  -0.36905238\n",
            "    0.86371833]\n",
            "  [-1.5308529   1.155322   -0.01040534 ...  1.0516688  -0.07748564\n",
            "    1.2561111 ]\n",
            "  [-0.68435234  0.4001456   0.57908434 ...  1.2927327   0.30724463\n",
            "    0.6074799 ]]\n",
            "\n",
            " ...\n",
            "\n",
            " [[-1.3626993  -0.35903102 -0.14188035 ...  0.8800357   0.45315772\n",
            "    0.47221193]\n",
            "  [-1.3728937   0.26325873  0.37464494 ...  1.027057   -1.4541165\n",
            "    0.35585344]\n",
            "  [-0.73070514 -0.3546415   0.28876543 ...  0.4855809  -0.87845886\n",
            "    1.3300315 ]\n",
            "  ...\n",
            "  [-2.3346562   0.86672264  0.7342752  ...  1.2632911   0.59714174\n",
            "    0.9450521 ]\n",
            "  [-0.8020816   0.157307    0.13522884 ...  0.9630539   0.24737428\n",
            "    0.78865933]\n",
            "  [-0.6404087   0.07249797  0.45476633 ...  0.7519474  -0.08167718\n",
            "    1.2218772 ]]\n",
            "\n",
            " [[-1.2723987  -0.3963358   0.5239615  ... -0.62904835 -0.13333331\n",
            "    0.6511956 ]\n",
            "  [-1.5226301   1.3402255   0.7212672  ...  0.7755886  -0.05189504\n",
            "    0.6635769 ]\n",
            "  [-0.68896157  0.20449902  1.0916954  ...  1.4154457   0.10333352\n",
            "    2.1190248 ]\n",
            "  ...\n",
            "  [-1.17473     0.78181946  0.38355997 ...  0.8561084   0.10786293\n",
            "    1.0475268 ]\n",
            "  [-1.6283561  -0.8259477   0.7365144  ...  1.2803503   0.21440747\n",
            "    0.78433776]\n",
            "  [-1.1692921  -0.26119244  1.094925   ...  1.1859      0.08894087\n",
            "    1.1161543 ]]\n",
            "\n",
            " [[-1.00782     0.75211084 -0.09224539 ... -0.22132665 -0.14365281\n",
            "    0.7185411 ]\n",
            "  [-0.69829834 -0.19493057  0.63493615 ...  1.1766045   0.1983473\n",
            "    1.5455872 ]\n",
            "  [-0.95431465  0.06359132  1.1648296  ...  1.9992251  -0.15017018\n",
            "    1.0314386 ]\n",
            "  ...\n",
            "  [-1.5628716   1.1741667  -0.1642076  ...  1.0753366  -1.0192902\n",
            "    0.29484197]\n",
            "  [-1.0877755   0.6734083   0.23760223 ... -0.00400185 -0.8337117\n",
            "    1.1719376 ]\n",
            "  [-0.9183095   0.7895564  -0.6794685  ...  1.1496861   0.41412774\n",
            "    0.6950116 ]]], shape=(64, 8, 512), dtype=float32)\n"
          ]
        }
      ]
    }
  ]
}