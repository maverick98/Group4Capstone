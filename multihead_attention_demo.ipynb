{
  "nbformat": 4,
  "nbformat_minor": 0,
  "metadata": {
    "colab": {
      "provenance": [],
      "collapsed_sections": [
        "y3PVm73kLwfK",
        "KujElPN-Orji"
      ],
      "authorship_tag": "ABX9TyMHc/V282jDodjZLDV1UQbZ",
      "include_colab_link": true
    },
    "kernelspec": {
      "name": "python3",
      "display_name": "Python 3"
    },
    "language_info": {
      "name": "python"
    }
  },
  "cells": [
    {
      "cell_type": "markdown",
      "metadata": {
        "id": "view-in-github",
        "colab_type": "text"
      },
      "source": [
        "<a href=\"https://colab.research.google.com/github/maverick98/Group4Capstone/blob/main/multihead_attention_demo.ipynb\" target=\"_parent\"><img src=\"https://colab.research.google.com/assets/colab-badge.svg\" alt=\"Open In Colab\"/></a>"
      ]
    },
    {
      "cell_type": "markdown",
      "source": [
        "# Import necessary libraries"
      ],
      "metadata": {
        "id": "y3PVm73kLwfK"
      }
    },
    {
      "cell_type": "code",
      "source": [
        "import numpy as np\n",
        "import string\n",
        "import tensorflow as tf\n",
        "from tensorflow import math, matmul, reshape, shape, transpose, cast, float32\n",
        "from tensorflow.data import Dataset\n",
        "from tensorflow.keras.layers import Embedding,Dense, Layer,TextVectorization\n",
        "from tensorflow.keras.backend import softmax\n",
        "from pickle import load, dump, HIGHEST_PROTOCOL\n",
        "from sklearn.utils import shuffle\n",
        "from numpy import savetxt\n",
        "from tensorflow.keras.preprocessing.text import Tokenizer\n",
        "from tensorflow.keras.preprocessing.sequence import pad_sequences\n",
        "from tensorflow import convert_to_tensor, int64\n",
        "from tensorflow.keras.layers import LayerNormalization,   ReLU, Dropout\n",
        "from tensorflow.keras.optimizers import Adam\n",
        "from tensorflow.keras.optimizers.schedules import LearningRateSchedule\n",
        "from tensorflow.keras.metrics import Mean\n",
        "from tensorflow import data, train,  reduce_sum,  equal, argmax,GradientTape, function\n",
        "from tensorflow.keras.losses import sparse_categorical_crossentropy\n",
        "from time import time\n",
        "from pickle import dump\n",
        "from tensorflow import    linalg, ones, maximum, newaxis\n",
        "from tensorflow.keras import Model\n",
        "from pickle import load\n",
        "from tensorflow import Module\n",
        "from tensorflow import   TensorArray, argmax,  transpose\n",
        "from matplotlib.pylab import plt\n",
        "from numpy import arange\n",
        "\n",
        "from keras.utils import to_categorical\n",
        "import numpy as np\n",
        "from numpy import array\n",
        "import pandas as pd\n",
        "import cv2\n",
        "from glob import glob\n",
        "import PIL\n",
        "import time\n",
        "from tqdm import tqdm\n",
        "import os\n",
        "#import gensim\n",
        "from sklearn.model_selection import train_test_split\n",
        "from nltk.translate.bleu_score import sentence_bleu\n",
        "from PIL import Image\n",
        "import random\n",
        "from importlib.machinery import SourceFileLoader\n",
        "from os.path import join\n",
        "from google.colab import drive"
      ],
      "metadata": {
        "id": "n6BDkBbELu8q"
      },
      "execution_count": null,
      "outputs": []
    },
    {
      "cell_type": "markdown",
      "source": [
        "# Check if connected to GPU"
      ],
      "metadata": {
        "id": "KujElPN-Orji"
      }
    },
    {
      "cell_type": "code",
      "source": [
        "gpu_info = !nvidia-smi\n",
        "gpu_info = '\\n'.join(gpu_info)\n",
        "if gpu_info.find('failed') >= 0:\n",
        "  print('Not connected to a GPU')\n",
        "else:\n",
        "  print(gpu_info)"
      ],
      "metadata": {
        "colab": {
          "base_uri": "https://localhost:8080/"
        },
        "id": "w_5u_9YyOpNz",
        "outputId": "3eabcbe1-6230-44cb-decb-283c2749f20b"
      },
      "execution_count": null,
      "outputs": [
        {
          "output_type": "stream",
          "name": "stdout",
          "text": [
            "Not connected to a GPU\n"
          ]
        }
      ]
    },
    {
      "cell_type": "markdown",
      "source": [
        "# Mount Google Drive"
      ],
      "metadata": {
        "id": "XM1nAEvvKm1E"
      }
    },
    {
      "cell_type": "code",
      "execution_count": null,
      "metadata": {
        "colab": {
          "base_uri": "https://localhost:8080/"
        },
        "id": "ixOYqR2r7T-Q",
        "outputId": "2a98499a-99d4-4da0-97b6-991293898d7b"
      },
      "outputs": [
        {
          "output_type": "stream",
          "name": "stdout",
          "text": [
            "Mounted at /content/drive\n"
          ]
        }
      ],
      "source": [
        "\n",
        "\n",
        "ROOT = \"/content/drive\"\n",
        "drive.mount(ROOT,force_remount=True)\n",
        "\n",
        "\n"
      ]
    },
    {
      "cell_type": "code",
      "source": [
        "PROJ = \"MyDrive/Capstone/src\" \n",
        "PROJECT_PATH = join(ROOT, PROJ)\n",
        "print(\"PROJECT_PATH from your Google Drive is \",PROJECT_PATH)\n",
        "!rm -rf \"{PROJECT_PATH}\"\n",
        "!mkdir  \"{PROJECT_PATH}\""
      ],
      "metadata": {
        "colab": {
          "base_uri": "https://localhost:8080/"
        },
        "id": "pCYv8FkDM6B_",
        "outputId": "84a79154-8821-428e-a51d-f6c63284cfdf"
      },
      "execution_count": null,
      "outputs": [
        {
          "output_type": "stream",
          "name": "stdout",
          "text": [
            "PROJECT_PATH from your Google Drive is  /content/drive/MyDrive/Capstone/src\n"
          ]
        }
      ]
    },
    {
      "cell_type": "markdown",
      "source": [
        "# Clone the code from https://sourceforge.net/projects/group4capstone/"
      ],
      "metadata": {
        "id": "IVa7Vdx4d2NL"
      }
    },
    {
      "cell_type": "code",
      "source": [
        "%cd \"{PROJECT_PATH}\"\n",
        "!pwd\n",
        "MY_USER_NAME = 'msahu98' # This is your sourceforge.net username\n",
        "!git clone https://{MY_USER_NAME}@git.code.sf.net/p/group4capstone/code group4capstone-code"
      ],
      "metadata": {
        "colab": {
          "base_uri": "https://localhost:8080/"
        },
        "id": "yBHIG28dd6Dp",
        "outputId": "a2bf01cb-c56f-475f-b222-e8645bb58948"
      },
      "execution_count": null,
      "outputs": [
        {
          "output_type": "stream",
          "name": "stdout",
          "text": [
            "/content/drive/MyDrive/Capstone/src\n",
            "/content/drive/MyDrive/Capstone/src\n",
            "Cloning into 'group4capstone-code'...\n",
            "remote: Enumerating objects: 15, done.\u001b[K\n",
            "remote: Counting objects: 100% (15/15), done.\u001b[K\n",
            "remote: Compressing objects: 100% (12/12), done.\u001b[K\n",
            "remote: Total 15 (delta 4), reused 0 (delta 0)\u001b[K\n",
            "Unpacking objects: 100% (15/15), 3.14 KiB | 17.00 KiB/s, done.\n"
          ]
        }
      ]
    },
    {
      "cell_type": "code",
      "source": [],
      "metadata": {
        "id": "6mGLrsMzd1SO"
      },
      "execution_count": null,
      "outputs": []
    },
    {
      "cell_type": "markdown",
      "source": [
        "# Load Modules"
      ],
      "metadata": {
        "id": "X2WOLpG1LoqU"
      }
    },
    {
      "cell_type": "code",
      "source": [
        "PROJECT_PATH \n",
        "#/content/drive/MyDrive/Capstone/src/group4capstone-code/src/positional_encoding.py"
      ],
      "metadata": {
        "colab": {
          "base_uri": "https://localhost:8080/",
          "height": 35
        },
        "id": "oQgm8lMlfVuq",
        "outputId": "6b151be4-a861-4061-8d8b-ca555724932d"
      },
      "execution_count": null,
      "outputs": [
        {
          "output_type": "execute_result",
          "data": {
            "text/plain": [
              "'/content/drive/MyDrive/Capstone/src'"
            ],
            "application/vnd.google.colaboratory.intrinsic+json": {
              "type": "string"
            }
          },
          "metadata": {},
          "execution_count": 6
        }
      ]
    },
    {
      "cell_type": "code",
      "source": [
        "def load_module(module_name):\n",
        "    module_py=module_name+'.py'\n",
        "    SourceFileLoader(module_name, join(join(PROJECT_PATH,'group4capstone-code/src'), module_py)).load_module()\n",
        "\n"
      ],
      "metadata": {
        "id": "ZjQo8Ho19CS1"
      },
      "execution_count": null,
      "outputs": []
    },
    {
      "cell_type": "code",
      "source": [
        "load_module('positional_encoding')"
      ],
      "metadata": {
        "id": "5WQfX_GiMKN_"
      },
      "execution_count": null,
      "outputs": []
    },
    {
      "cell_type": "markdown",
      "source": [
        "# Check Word Embedding and  Positional Encoding Layer in Transformers"
      ],
      "metadata": {
        "id": "_l6S6nejvnAm"
      }
    },
    {
      "cell_type": "code",
      "source": [
        "output_sequence_length=4\n",
        "vocab_size=5\n",
        "sentences=[[\"I am good\"],[\"She is good\"],[\"All are good\"]]\n",
        "sentence_data=Dataset.from_tensor_slices(sentences)\n",
        "vectorize_layer=TextVectorization(output_sequence_length=output_sequence_length,max_tokens=vocab_size)\n",
        "vectorize_layer.adapt(sentence_data)\n",
        "word_tensors=convert_to_tensor(sentences,dtype=tf.string)\n",
        "vectorized_words=vectorize_layer(word_tensors)\n",
        "print(\"Vocabulary: \",vectorize_layer.get_vocabulary())\n",
        "print(\"Vectorized words : \",vectorized_words)"
      ],
      "metadata": {
        "id": "fUXG_XfWrMkA",
        "colab": {
          "base_uri": "https://localhost:8080/"
        },
        "outputId": "63ad4e60-f017-4a32-f5f7-80fe9eac5398"
      },
      "execution_count": null,
      "outputs": [
        {
          "output_type": "stream",
          "name": "stdout",
          "text": [
            "Vocabulary:  ['', '[UNK]', 'good', 'she', 'is']\n",
            "Vectorized words :  tf.Tensor(\n",
            "[[1 1 2 0]\n",
            " [3 4 2 0]\n",
            " [1 1 2 0]], shape=(3, 4), dtype=int64)\n"
          ]
        }
      ]
    },
    {
      "cell_type": "code",
      "source": [
        "output_length=6\n",
        "word_embedding_layer=Embedding(vocab_size,output_length)\n",
        "embedded_words=word_embedding_layer(vectorized_words)\n",
        "print(\"embedded words are \",embedded_words)"
      ],
      "metadata": {
        "id": "SB4TaTSyvzye",
        "colab": {
          "base_uri": "https://localhost:8080/"
        },
        "outputId": "dbb37032-ffbb-412c-9a59-07a19cff331f"
      },
      "execution_count": null,
      "outputs": [
        {
          "output_type": "stream",
          "name": "stdout",
          "text": [
            "embedded words are  tf.Tensor(\n",
            "[[[ 0.03136194 -0.02349275  0.01492384 -0.03779265  0.04742111\n",
            "    0.04827401]\n",
            "  [ 0.03136194 -0.02349275  0.01492384 -0.03779265  0.04742111\n",
            "    0.04827401]\n",
            "  [ 0.02765325 -0.02444298 -0.01465755 -0.02001199 -0.02473662\n",
            "   -0.00449907]\n",
            "  [ 0.03768248  0.02666086  0.02528218  0.03688801  0.0041638\n",
            "   -0.00889851]]\n",
            "\n",
            " [[-0.0153829  -0.00625722 -0.02447802  0.01780427 -0.04268413\n",
            "   -0.00051332]\n",
            "  [ 0.03730769 -0.01866931 -0.00058372 -0.024783   -0.03365417\n",
            "    0.01946206]\n",
            "  [ 0.02765325 -0.02444298 -0.01465755 -0.02001199 -0.02473662\n",
            "   -0.00449907]\n",
            "  [ 0.03768248  0.02666086  0.02528218  0.03688801  0.0041638\n",
            "   -0.00889851]]\n",
            "\n",
            " [[ 0.03136194 -0.02349275  0.01492384 -0.03779265  0.04742111\n",
            "    0.04827401]\n",
            "  [ 0.03136194 -0.02349275  0.01492384 -0.03779265  0.04742111\n",
            "    0.04827401]\n",
            "  [ 0.02765325 -0.02444298 -0.01465755 -0.02001199 -0.02473662\n",
            "   -0.00449907]\n",
            "  [ 0.03768248  0.02666086  0.02528218  0.03688801  0.0041638\n",
            "   -0.00889851]]], shape=(3, 4, 6), dtype=float32)\n"
          ]
        }
      ]
    },
    {
      "cell_type": "code",
      "source": [
        "position_embedding_layer=Embedding(output_sequence_length,output_length)\n",
        "position_indices=tf.range(output_sequence_length)\n",
        "embedded_position_indices=position_embedding_layer(position_indices)\n",
        "print(\"embedded_position_indices are \",embedded_position_indices)"
      ],
      "metadata": {
        "colab": {
          "base_uri": "https://localhost:8080/"
        },
        "id": "WhehVbzcx5xV",
        "outputId": "7a95fcba-7bd3-485b-bd6c-ecda57b8d129"
      },
      "execution_count": null,
      "outputs": [
        {
          "output_type": "stream",
          "name": "stdout",
          "text": [
            "embedded_position_indices are  tf.Tensor(\n",
            "[[ 3.94605286e-02 -2.15414409e-02  5.57041168e-03  1.12429261e-05\n",
            "  -2.76926160e-02  4.15637828e-02]\n",
            " [ 4.13621925e-02  2.15539075e-02 -8.33771378e-03 -2.11386085e-02\n",
            "  -3.55157852e-02 -9.15651396e-03]\n",
            " [ 1.29827745e-02 -5.90965897e-03 -4.07524332e-02 -1.10849850e-02\n",
            "  -4.22713421e-02  2.83741020e-02]\n",
            " [-2.36492287e-02  4.54569981e-03  3.80173586e-02 -4.67497222e-02\n",
            "   3.93976234e-02 -7.74022192e-03]], shape=(4, 6), dtype=float32)\n"
          ]
        }
      ]
    },
    {
      "cell_type": "code",
      "source": [
        "final_output_embedding=embedded_words+embedded_position_indices\n",
        "print(\"final_output_embedding \",final_output_embedding)"
      ],
      "metadata": {
        "id": "FSw2WDJvygK_",
        "colab": {
          "base_uri": "https://localhost:8080/"
        },
        "outputId": "b1cddac6-3c2a-40d7-b5a1-a6a37e8c0b6a"
      },
      "execution_count": null,
      "outputs": [
        {
          "output_type": "stream",
          "name": "stdout",
          "text": [
            "final_output_embedding  tf.Tensor(\n",
            "[[[ 0.07082247 -0.04503419  0.02049425 -0.0377814   0.01972849\n",
            "    0.0898378 ]\n",
            "  [ 0.07272413 -0.00193885  0.00658612 -0.05893125  0.01190532\n",
            "    0.0391175 ]\n",
            "  [ 0.04063603 -0.03035264 -0.05540998 -0.03109697 -0.06700796\n",
            "    0.02387504]\n",
            "  [ 0.01403325  0.03120656  0.06329954 -0.00986171  0.04356143\n",
            "   -0.01663873]]\n",
            "\n",
            " [[ 0.02407763 -0.02779867 -0.01890761  0.01781551 -0.07037674\n",
            "    0.04105047]\n",
            "  [ 0.07866988  0.0028846  -0.00892143 -0.04592161 -0.06916995\n",
            "    0.01030555]\n",
            "  [ 0.04063603 -0.03035264 -0.05540998 -0.03109697 -0.06700796\n",
            "    0.02387504]\n",
            "  [ 0.01403325  0.03120656  0.06329954 -0.00986171  0.04356143\n",
            "   -0.01663873]]\n",
            "\n",
            " [[ 0.07082247 -0.04503419  0.02049425 -0.0377814   0.01972849\n",
            "    0.0898378 ]\n",
            "  [ 0.07272413 -0.00193885  0.00658612 -0.05893125  0.01190532\n",
            "    0.0391175 ]\n",
            "  [ 0.04063603 -0.03035264 -0.05540998 -0.03109697 -0.06700796\n",
            "    0.02387504]\n",
            "  [ 0.01403325  0.03120656  0.06329954 -0.00986171  0.04356143\n",
            "   -0.01663873]]], shape=(3, 4, 6), dtype=float32)\n"
          ]
        }
      ]
    },
    {
      "cell_type": "markdown",
      "source": [
        "# Positional Encoding in Transformers"
      ],
      "metadata": {
        "id": "jjqFRS5VH5s4"
      }
    },
    {
      "cell_type": "code",
      "source": [
        "vectorized_words"
      ],
      "metadata": {
        "colab": {
          "base_uri": "https://localhost:8080/"
        },
        "id": "iFpoiNlJJELw",
        "outputId": "ca01f008-3c9b-4639-93f9-28837682965d"
      },
      "execution_count": null,
      "outputs": [
        {
          "output_type": "execute_result",
          "data": {
            "text/plain": [
              "<tf.Tensor: shape=(3, 4), dtype=int64, numpy=\n",
              "array([[1, 1, 2, 0],\n",
              "       [3, 4, 2, 0],\n",
              "       [1, 1, 2, 0]])>"
            ]
          },
          "metadata": {},
          "execution_count": 13
        }
      ]
    },
    {
      "cell_type": "code",
      "source": [
        "from positional_encoding import  PositionEmbeddingFixedWeights\n",
        "from positional_encoding import  PositionEmbeddingLayer"
      ],
      "metadata": {
        "id": "OSw6qSj9N3zl"
      },
      "execution_count": null,
      "outputs": []
    },
    {
      "cell_type": "code",
      "source": [
        "\n",
        "pefw=PositionEmbeddingFixedWeights(output_sequence_length,vocab_size,output_length)\n",
        "print(\"Output of PositionalEmbeddingFixedWeights::\",pefw(vectorized_words))"
      ],
      "metadata": {
        "colab": {
          "base_uri": "https://localhost:8080/"
        },
        "id": "n_I-mY9IH9lG",
        "outputId": "2d19a84c-d8fa-44fe-f090-fc660cc42285"
      },
      "execution_count": null,
      "outputs": [
        {
          "output_type": "stream",
          "name": "stdout",
          "text": [
            "Output of PositionalEmbeddingFixedWeights:: tf.Tensor(\n",
            "[[[ 0.84147096  1.5403023   0.04639922  1.9989231   0.00215443\n",
            "    1.9999976 ]\n",
            "  [ 1.6829419   1.0806046   0.09279845  1.997846    0.00430887\n",
            "    1.9999954 ]\n",
            "  [ 1.8185948  -0.8322937   0.185397    1.9913884   0.00861771\n",
            "    1.9999814 ]\n",
            "  [ 0.14112     0.0100075   0.1387981   1.9903207   0.00646326\n",
            "    1.9999791 ]]\n",
            "\n",
            " [[ 0.14112     0.0100075   0.1387981   1.9903207   0.00646326\n",
            "    1.9999791 ]\n",
            "  [ 0.08466846 -0.11334133  0.23099795  1.9817369   0.01077207\n",
            "    1.9999605 ]\n",
            "  [ 1.8185948  -0.8322937   0.185397    1.9913884   0.00861771\n",
            "    1.9999814 ]\n",
            "  [ 0.14112     0.0100075   0.1387981   1.9903207   0.00646326\n",
            "    1.9999791 ]]\n",
            "\n",
            " [[ 0.84147096  1.5403023   0.04639922  1.9989231   0.00215443\n",
            "    1.9999976 ]\n",
            "  [ 1.6829419   1.0806046   0.09279845  1.997846    0.00430887\n",
            "    1.9999954 ]\n",
            "  [ 1.8185948  -0.8322937   0.185397    1.9913884   0.00861771\n",
            "    1.9999814 ]\n",
            "  [ 0.14112     0.0100075   0.1387981   1.9903207   0.00646326\n",
            "    1.9999791 ]]], shape=(3, 4, 6), dtype=float32)\n"
          ]
        }
      ]
    },
    {
      "cell_type": "markdown",
      "source": [
        "# Visualizing the final Embeddings"
      ],
      "metadata": {
        "id": "08S6Xu-nJRzG"
      }
    },
    {
      "cell_type": "code",
      "source": [
        "sentence1 = \"I am trying to understand Positional Embeddings. I hope this notebook helps me visualize what I understand!!!\"\n",
        "sentence2 = \"Really... Understanding is a seductive lie my dear friend. Everything you believe that you understand is nothing a game played on you by someone else\"\n",
        "sentence3= \"I am bit lost here\"\n",
        "all_sentences=[sentence1,sentence2,sentence3]"
      ],
      "metadata": {
        "id": "aS8R1bKhJnA2"
      },
      "execution_count": null,
      "outputs": []
    },
    {
      "cell_type": "code",
      "source": [
        "vocab_size=200\n",
        "output_sequence_length=20\n",
        "output_length=50\n",
        "tv= TextVectorization(output_sequence_length=output_sequence_length,max_tokens=vocab_size)\n",
        "tv.adapt(all_sentences)\n",
        "print(\"type of all_sentences is \",type(all_sentences))\n",
        "convert_to_tensor(all_sentences,dtype=tf.string)\n",
        "print(\"type of all_sentences is \",type(all_sentences))\n",
        "vectorized_sentences=tv(all_sentences)\n",
        "print(\"type of vectorized_sentences is \",type(vectorized_sentences))\n",
        "\n",
        "random_weights_embedding_layer=PositionEmbeddingLayer(output_sequence_length,vocab_size,output_length)\n",
        "fixed_weights_embedding_layer=PositionEmbeddingFixedWeights(output_sequence_length,vocab_size,output_length)\n",
        "random_weights_embedding=random_weights_embedding_layer(vectorized_sentences)\n",
        "fixed_weights_embedding=fixed_weights_embedding_layer(vectorized_sentences)\n",
        "\n",
        "\n"
      ],
      "metadata": {
        "colab": {
          "base_uri": "https://localhost:8080/"
        },
        "id": "418TX5NwKDn9",
        "outputId": "2c20127a-e0ba-4e8b-ac81-819c75d8c50a"
      },
      "execution_count": null,
      "outputs": [
        {
          "output_type": "stream",
          "name": "stdout",
          "text": [
            "type of all_sentences is  <class 'list'>\n",
            "type of all_sentences is  <class 'list'>\n",
            "type of vectorized_sentences is  <class 'tensorflow.python.framework.ops.EagerTensor'>\n"
          ]
        }
      ]
    },
    {
      "cell_type": "code",
      "source": [
        "print(random_weights_embedding.shape)"
      ],
      "metadata": {
        "colab": {
          "base_uri": "https://localhost:8080/"
        },
        "id": "6KTd1vbiO1QS",
        "outputId": "a96f84f5-1c1d-4b6a-98f8-51544f63f1e4"
      },
      "execution_count": null,
      "outputs": [
        {
          "output_type": "stream",
          "name": "stdout",
          "text": [
            "(3, 20, 50)\n"
          ]
        }
      ]
    },
    {
      "cell_type": "code",
      "source": [
        "print(fixed_weights_embedding.shape)"
      ],
      "metadata": {
        "colab": {
          "base_uri": "https://localhost:8080/"
        },
        "id": "ZWeYCoQlO5Cs",
        "outputId": "6785a0e4-c9df-465f-ac29-c6d33f102dfc"
      },
      "execution_count": null,
      "outputs": [
        {
          "output_type": "stream",
          "name": "stdout",
          "text": [
            "(3, 20, 50)\n"
          ]
        }
      ]
    },
    {
      "cell_type": "markdown",
      "source": [
        "# Plot Random weights Embeddings"
      ],
      "metadata": {
        "id": "llhkx7EOOXOM"
      }
    },
    {
      "cell_type": "code",
      "source": [
        "def plot_embeddedings(embeddings,plot_title):\n",
        "    fig=plt.figure(figsize=(12,8))\n",
        "    title=['sentence1','sentence2']\n",
        "    for i in range(2):\n",
        "        ax=plt.subplot(1,2,1+i)\n",
        "        #matrix=tf.reshape(embeddings[i,:,:],(output_sequence_length,output_length))\n",
        "        #cax=ax.matshow(matrix)\n",
        "        cax=ax.matshow(embeddings[i,:,:])\n",
        "        plt.gcf().colorbar(cax)\n",
        "        plt.title(title[i],y=1.2)\n",
        "    fig.suptitle(plot_title)\n",
        "    plt.show()   \n"
      ],
      "metadata": {
        "id": "lNSCcZSNOayU"
      },
      "execution_count": null,
      "outputs": []
    },
    {
      "cell_type": "code",
      "source": [
        "print(random_weights_embedding.shape)\n",
        "print(random_weights_embedding[0,:,:].shape)\n",
        "print(output_sequence_length,output_length)\n",
        "plot_embeddedings(random_weights_embedding,'Random Embeddings')\n"
      ],
      "metadata": {
        "colab": {
          "base_uri": "https://localhost:8080/",
          "height": 676
        },
        "id": "Ae_VDOJHQrfb",
        "outputId": "9265e98c-65bb-454c-af3a-7a7bd4e1f4eb"
      },
      "execution_count": null,
      "outputs": [
        {
          "output_type": "stream",
          "name": "stdout",
          "text": [
            "(3, 20, 50)\n",
            "(20, 50)\n",
            "20 50\n"
          ]
        },
        {
          "output_type": "display_data",
          "data": {
            "text/plain": [
              "<Figure size 1200x800 with 4 Axes>"
            ],
            "image/png": "[encoded data removed]"
          },
          "metadata": {}
        }
      ]
    },
    {
      "cell_type": "code",
      "source": [
        "print(fixed_weights_embedding.shape)\n",
        "print(fixed_weights_embedding[0,:,:].shape)\n",
        "print(output_sequence_length,output_length)\n",
        "plot_embeddedings(fixed_weights_embedding,'Fixed with Sinusoidal Embeddings')"
      ],
      "metadata": {
        "colab": {
          "base_uri": "https://localhost:8080/",
          "height": 687
        },
        "id": "Gy0CbumiRp4-",
        "outputId": "e8c2b41c-2503-494a-85b9-20872d03b16c"
      },
      "execution_count": null,
      "outputs": [
        {
          "output_type": "stream",
          "name": "stdout",
          "text": [
            "(3, 20, 50)\n",
            "(20, 50)\n",
            "20 50\n"
          ]
        },
        {
          "output_type": "display_data",
          "data": {
            "text/plain": [
              "<Figure size 1200x800 with 4 Axes>"
            ],
            "image/png": "[encoded data removed]"
          },
          "metadata": {}
        }
      ]
    }
  ]
}